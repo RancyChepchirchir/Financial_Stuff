{
  "nbformat": 4,
  "nbformat_minor": 0,
  "metadata": {
    "colab": {
      "name": "mle",
      "provenance": [],
      "collapsed_sections": [],
      "authorship_tag": "ABX9TyOFZIUm9D7w7UzH9IQdH68w",
      "include_colab_link": true
    },
    "kernelspec": {
      "name": "python3",
      "display_name": "Python 3"
    }
  },
  "cells": [
    {
      "cell_type": "markdown",
      "metadata": {
        "id": "view-in-github",
        "colab_type": "text"
      },
      "source": [
        "<a href=\"https://colab.research.google.com/github/RancyChepchirchir/hello-world/blob/master/mle.ipynb\" target=\"_parent\"><img src=\"https://colab.research.google.com/assets/colab-badge.svg\" alt=\"Open In Colab\"/></a>"
      ]
    },
    {
      "cell_type": "code",
      "metadata": {
        "id": "XUMbf8KLwW6g",
        "colab_type": "code",
        "outputId": "f0bbbf4a-ad55-464d-b065-8443454a0dcf",
        "colab": {
          "base_uri": "https://localhost:8080/",
          "height": 73
        }
      },
      "source": [
        "import numpy as np\n",
        "import pandas as pd\n",
        "import scipy as sp\n",
        "import matplotlib.pyplot as plt\n",
        "import seaborn as sns"
      ],
      "execution_count": 1,
      "outputs": [
        {
          "output_type": "stream",
          "text": [
            "/usr/local/lib/python3.6/dist-packages/statsmodels/tools/_testing.py:19: FutureWarning: pandas.util.testing is deprecated. Use the functions in the public API at pandas.testing instead.\n",
            "  import pandas.util.testing as tm\n"
          ],
          "name": "stderr"
        }
      ]
    },
    {
      "cell_type": "code",
      "metadata": {
        "id": "PIWhgRLDwqQ4",
        "colab_type": "code",
        "colab": {}
      },
      "source": [
        "data = pd.read_csv('data_yahoo_SP500_2010-2018(1).csv', parse_dates=['Date'])"
      ],
      "execution_count": 0,
      "outputs": []
    },
    {
      "cell_type": "code",
      "metadata": {
        "id": "JKSwvtnz5rQK",
        "colab_type": "code",
        "outputId": "39c5c53a-2d24-4320-9fbb-b11a89619758",
        "colab": {
          "base_uri": "https://localhost:8080/",
          "height": 204
        }
      },
      "source": [
        "data.head()"
      ],
      "execution_count": 3,
      "outputs": [
        {
          "output_type": "execute_result",
          "data": {
            "text/html": [
              "<div>\n",
              "<style scoped>\n",
              "    .dataframe tbody tr th:only-of-type {\n",
              "        vertical-align: middle;\n",
              "    }\n",
              "\n",
              "    .dataframe tbody tr th {\n",
              "        vertical-align: top;\n",
              "    }\n",
              "\n",
              "    .dataframe thead th {\n",
              "        text-align: right;\n",
              "    }\n",
              "</style>\n",
              "<table border=\"1\" class=\"dataframe\">\n",
              "  <thead>\n",
              "    <tr style=\"text-align: right;\">\n",
              "      <th></th>\n",
              "      <th>Date</th>\n",
              "      <th>Open</th>\n",
              "      <th>High</th>\n",
              "      <th>Low</th>\n",
              "      <th>Close</th>\n",
              "      <th>Adj Close</th>\n",
              "      <th>Volume</th>\n",
              "    </tr>\n",
              "  </thead>\n",
              "  <tbody>\n",
              "    <tr>\n",
              "      <th>0</th>\n",
              "      <td>2010-01-01</td>\n",
              "      <td>1116.560059</td>\n",
              "      <td>1150.449951</td>\n",
              "      <td>1071.589966</td>\n",
              "      <td>1073.869995</td>\n",
              "      <td>1073.869995</td>\n",
              "      <td>90947580000</td>\n",
              "    </tr>\n",
              "    <tr>\n",
              "      <th>1</th>\n",
              "      <td>2010-02-01</td>\n",
              "      <td>1073.890015</td>\n",
              "      <td>1112.420044</td>\n",
              "      <td>1044.500000</td>\n",
              "      <td>1104.489990</td>\n",
              "      <td>1104.489990</td>\n",
              "      <td>84561340000</td>\n",
              "    </tr>\n",
              "    <tr>\n",
              "      <th>2</th>\n",
              "      <td>2010-03-01</td>\n",
              "      <td>1105.359985</td>\n",
              "      <td>1180.689941</td>\n",
              "      <td>1105.359985</td>\n",
              "      <td>1169.430054</td>\n",
              "      <td>1169.430054</td>\n",
              "      <td>103683550000</td>\n",
              "    </tr>\n",
              "    <tr>\n",
              "      <th>3</th>\n",
              "      <td>2010-04-01</td>\n",
              "      <td>1171.229980</td>\n",
              "      <td>1219.800049</td>\n",
              "      <td>1170.689941</td>\n",
              "      <td>1186.689941</td>\n",
              "      <td>1186.689941</td>\n",
              "      <td>116741910000</td>\n",
              "    </tr>\n",
              "    <tr>\n",
              "      <th>4</th>\n",
              "      <td>2010-05-01</td>\n",
              "      <td>1188.579956</td>\n",
              "      <td>1205.130005</td>\n",
              "      <td>1040.780029</td>\n",
              "      <td>1089.410034</td>\n",
              "      <td>1089.410034</td>\n",
              "      <td>127662780000</td>\n",
              "    </tr>\n",
              "  </tbody>\n",
              "</table>\n",
              "</div>"
            ],
            "text/plain": [
              "        Date         Open         High  ...        Close    Adj Close        Volume\n",
              "0 2010-01-01  1116.560059  1150.449951  ...  1073.869995  1073.869995   90947580000\n",
              "1 2010-02-01  1073.890015  1112.420044  ...  1104.489990  1104.489990   84561340000\n",
              "2 2010-03-01  1105.359985  1180.689941  ...  1169.430054  1169.430054  103683550000\n",
              "3 2010-04-01  1171.229980  1219.800049  ...  1186.689941  1186.689941  116741910000\n",
              "4 2010-05-01  1188.579956  1205.130005  ...  1089.410034  1089.410034  127662780000\n",
              "\n",
              "[5 rows x 7 columns]"
            ]
          },
          "metadata": {
            "tags": []
          },
          "execution_count": 3
        }
      ]
    },
    {
      "cell_type": "code",
      "metadata": {
        "id": "25VHWtq95pSR",
        "colab_type": "code",
        "outputId": "271749d2-4bc4-428a-af48-fda6713d39da",
        "colab": {
          "base_uri": "https://localhost:8080/",
          "height": 297
        }
      },
      "source": [
        "data.describe()"
      ],
      "execution_count": 4,
      "outputs": [
        {
          "output_type": "execute_result",
          "data": {
            "text/html": [
              "<div>\n",
              "<style scoped>\n",
              "    .dataframe tbody tr th:only-of-type {\n",
              "        vertical-align: middle;\n",
              "    }\n",
              "\n",
              "    .dataframe tbody tr th {\n",
              "        vertical-align: top;\n",
              "    }\n",
              "\n",
              "    .dataframe thead th {\n",
              "        text-align: right;\n",
              "    }\n",
              "</style>\n",
              "<table border=\"1\" class=\"dataframe\">\n",
              "  <thead>\n",
              "    <tr style=\"text-align: right;\">\n",
              "      <th></th>\n",
              "      <th>Open</th>\n",
              "      <th>High</th>\n",
              "      <th>Low</th>\n",
              "      <th>Close</th>\n",
              "      <th>Adj Close</th>\n",
              "      <th>Volume</th>\n",
              "    </tr>\n",
              "  </thead>\n",
              "  <tbody>\n",
              "    <tr>\n",
              "      <th>count</th>\n",
              "      <td>108.000000</td>\n",
              "      <td>108.000000</td>\n",
              "      <td>108.000000</td>\n",
              "      <td>108.000000</td>\n",
              "      <td>108.000000</td>\n",
              "      <td>1.080000e+02</td>\n",
              "    </tr>\n",
              "    <tr>\n",
              "      <th>mean</th>\n",
              "      <td>1850.329803</td>\n",
              "      <td>1900.848338</td>\n",
              "      <td>1796.400463</td>\n",
              "      <td>1861.197228</td>\n",
              "      <td>1861.197228</td>\n",
              "      <td>7.849312e+10</td>\n",
              "    </tr>\n",
              "    <tr>\n",
              "      <th>std</th>\n",
              "      <td>525.283476</td>\n",
              "      <td>531.094824</td>\n",
              "      <td>511.497020</td>\n",
              "      <td>522.379355</td>\n",
              "      <td>522.379355</td>\n",
              "      <td>1.214779e+10</td>\n",
              "    </tr>\n",
              "    <tr>\n",
              "      <th>min</th>\n",
              "      <td>1031.099976</td>\n",
              "      <td>1112.420044</td>\n",
              "      <td>1010.909973</td>\n",
              "      <td>1030.709961</td>\n",
              "      <td>1030.709961</td>\n",
              "      <td>5.813114e+10</td>\n",
              "    </tr>\n",
              "    <tr>\n",
              "      <th>25%</th>\n",
              "      <td>1364.489960</td>\n",
              "      <td>1388.315002</td>\n",
              "      <td>1312.287476</td>\n",
              "      <td>1365.162537</td>\n",
              "      <td>1365.162537</td>\n",
              "      <td>6.970634e+10</td>\n",
              "    </tr>\n",
              "    <tr>\n",
              "      <th>50%</th>\n",
              "      <td>1921.760009</td>\n",
              "      <td>1965.565002</td>\n",
              "      <td>1827.549988</td>\n",
              "      <td>1927.119995</td>\n",
              "      <td>1927.119995</td>\n",
              "      <td>7.676798e+10</td>\n",
              "    </tr>\n",
              "    <tr>\n",
              "      <th>75%</th>\n",
              "      <td>2166.080078</td>\n",
              "      <td>2189.355103</td>\n",
              "      <td>2115.820007</td>\n",
              "      <td>2171.612488</td>\n",
              "      <td>2171.612488</td>\n",
              "      <td>8.434662e+10</td>\n",
              "    </tr>\n",
              "    <tr>\n",
              "      <th>max</th>\n",
              "      <td>2926.290039</td>\n",
              "      <td>2940.909912</td>\n",
              "      <td>2864.120117</td>\n",
              "      <td>2913.979980</td>\n",
              "      <td>2913.979980</td>\n",
              "      <td>1.276628e+11</td>\n",
              "    </tr>\n",
              "  </tbody>\n",
              "</table>\n",
              "</div>"
            ],
            "text/plain": [
              "              Open         High  ...    Adj Close        Volume\n",
              "count   108.000000   108.000000  ...   108.000000  1.080000e+02\n",
              "mean   1850.329803  1900.848338  ...  1861.197228  7.849312e+10\n",
              "std     525.283476   531.094824  ...   522.379355  1.214779e+10\n",
              "min    1031.099976  1112.420044  ...  1030.709961  5.813114e+10\n",
              "25%    1364.489960  1388.315002  ...  1365.162537  6.970634e+10\n",
              "50%    1921.760009  1965.565002  ...  1927.119995  7.676798e+10\n",
              "75%    2166.080078  2189.355103  ...  2171.612488  8.434662e+10\n",
              "max    2926.290039  2940.909912  ...  2913.979980  1.276628e+11\n",
              "\n",
              "[8 rows x 6 columns]"
            ]
          },
          "metadata": {
            "tags": []
          },
          "execution_count": 4
        }
      ]
    },
    {
      "cell_type": "code",
      "metadata": {
        "id": "14AA9NDf50H1",
        "colab_type": "code",
        "outputId": "8cfe69ba-4a5a-4350-b663-07bb025285d5",
        "colab": {
          "base_uri": "https://localhost:8080/",
          "height": 337
        }
      },
      "source": [
        "data.Close.plot(figsize = (10, 5))\n",
        "plt.ylabel('SP500 Series')\n",
        "plt.xlabel('Date')\n",
        "plt.show()"
      ],
      "execution_count": 5,
      "outputs": [
        {
          "output_type": "display_data",
          "data": {
            "image/png": "[encoded data removed]",
            "text/plain": [
              "<Figure size 720x360 with 1 Axes>"
            ]
          },
          "metadata": {
            "tags": [],
            "needs_background": "light"
          }
        }
      ]
    },
    {
      "cell_type": "code",
      "metadata": {
        "id": "7xW-e-oh7EJQ",
        "colab_type": "code",
        "outputId": "c6cacc25-a71a-41c7-d285-973f8bdd50b4",
        "colab": {
          "base_uri": "https://localhost:8080/",
          "height": 269
        }
      },
      "source": [
        "cor = data.corr()   # from the representation, there is high correlation between allt he prices except for the volume \n",
        "sns.heatmap(cor)\n",
        "plt.show()"
      ],
      "execution_count": 6,
      "outputs": [
        {
          "output_type": "display_data",
          "data": {
            "image/png": "[encoded data removed]",
            "text/plain": [
              "<Figure size 432x288 with 2 Axes>"
            ]
          },
          "metadata": {
            "tags": [],
            "needs_background": "light"
          }
        }
      ]
    },
    {
      "cell_type": "code",
      "metadata": {
        "id": "zd6Ml9Eo-bSV",
        "colab_type": "code",
        "outputId": "f8019e77-ef88-4adc-e540-2332889cbcde",
        "colab": {
          "base_uri": "https://localhost:8080/",
          "height": 35
        }
      },
      "source": [
        "from scipy import stats\n",
        "shape,  loc,  scale  = stats.lognorm.fit(data.Close)     #parameter estimation using the mle\n",
        "shape, loc, scale"
      ],
      "execution_count": 7,
      "outputs": [
        {
          "output_type": "execute_result",
          "data": {
            "text/plain": [
              "(5.592890705980733, 1030.7099609999998, 2.923088504571695)"
            ]
          },
          "metadata": {
            "tags": []
          },
          "execution_count": 7
        }
      ]
    },
    {
      "cell_type": "code",
      "metadata": {
        "id": "aUPvVa-n7BgS",
        "colab_type": "code",
        "colab": {}
      },
      "source": [
        "data2 = stats.lognorm.rvs(3, 1031, size=(108,1))"
      ],
      "execution_count": 0,
      "outputs": []
    },
    {
      "cell_type": "code",
      "metadata": {
        "id": "h3UVZsjb49Jb",
        "colab_type": "code",
        "outputId": "8aecdba6-9e97-4226-f2e3-179fcaa92fac",
        "colab": {
          "base_uri": "https://localhost:8080/",
          "height": 295
        }
      },
      "source": [
        "plt.plot(data.Close)\n",
        "plt.plot(data2)\n",
        "plt.title('SP500 Series (Actual Vs Simulated from MLE parameters)')\n",
        "plt.ylabel('SP500 Series')\n",
        "plt.xlabel('Date')\n",
        "plt.show()"
      ],
      "execution_count": 9,
      "outputs": [
        {
          "output_type": "display_data",
          "data": {
            "image/png": "[encoded data removed]",
            "text/plain": [
              "<Figure size 432x288 with 1 Axes>"
            ]
          },
          "metadata": {
            "tags": [],
            "needs_background": "light"
          }
        }
      ]
    }
  ]
}