{
  "nbformat": 4,
  "nbformat_minor": 0,
  "metadata": {
    "colab": {
      "name": "Carbon_em",
      "provenance": [],
      "authorship_tag": "ABX9TyMUCFi8nXHeYEGRB13AibIv",
      "include_colab_link": true
    },
    "kernelspec": {
      "name": "python3",
      "display_name": "Python 3"
    }
  },
  "cells": [
    {
      "cell_type": "markdown",
      "metadata": {
        "id": "view-in-github",
        "colab_type": "text"
      },
      "source": [
        "<a href=\"https://colab.research.google.com/github/RancyChepchirchir/hello-world/blob/master/Carbon_em.ipynb\" target=\"_parent\"><img src=\"https://colab.research.google.com/assets/colab-badge.svg\" alt=\"Open In Colab\"/></a>"
      ]
    },
    {
      "cell_type": "code",
      "metadata": {
        "id": "IwNtapGSnEWl",
        "colab_type": "code",
        "colab": {}
      },
      "source": [
        "import numpy as np\n",
        "import pandas as pd\n",
        "import matplotlib.pyplot as plt"
      ],
      "execution_count": 0,
      "outputs": []
    },
    {
      "cell_type": "code",
      "metadata": {
        "id": "I8CIlb8NtArY",
        "colab_type": "code",
        "colab": {}
      },
      "source": [
        "carbon_em = pd.read_csv('carbon_emission.csv', parse_dates=['Year'])"
      ],
      "execution_count": 0,
      "outputs": []
    },
    {
      "cell_type": "code",
      "metadata": {
        "id": "EWpmIhRk5sm-",
        "colab_type": "code",
        "outputId": "d5a8c62a-caf6-4bca-9060-f5b27281c5df",
        "colab": {
          "base_uri": "https://localhost:8080/",
          "height": 204
        }
      },
      "source": [
        "carbon_em.head()"
      ],
      "execution_count": 5,
      "outputs": [
        {
          "output_type": "execute_result",
          "data": {
            "text/html": [
              "<div>\n",
              "<style scoped>\n",
              "    .dataframe tbody tr th:only-of-type {\n",
              "        vertical-align: middle;\n",
              "    }\n",
              "\n",
              "    .dataframe tbody tr th {\n",
              "        vertical-align: top;\n",
              "    }\n",
              "\n",
              "    .dataframe thead th {\n",
              "        text-align: right;\n",
              "    }\n",
              "</style>\n",
              "<table border=\"1\" class=\"dataframe\">\n",
              "  <thead>\n",
              "    <tr style=\"text-align: right;\">\n",
              "      <th></th>\n",
              "      <th>Year</th>\n",
              "      <th>CO2_emissions_kt</th>\n",
              "    </tr>\n",
              "  </thead>\n",
              "  <tbody>\n",
              "    <tr>\n",
              "      <th>0</th>\n",
              "      <td>1960-01-01</td>\n",
              "      <td>2427.554</td>\n",
              "    </tr>\n",
              "    <tr>\n",
              "      <th>1</th>\n",
              "      <td>1961-01-01</td>\n",
              "      <td>2401.885</td>\n",
              "    </tr>\n",
              "    <tr>\n",
              "      <th>2</th>\n",
              "      <td>1962-01-01</td>\n",
              "      <td>2625.572</td>\n",
              "    </tr>\n",
              "    <tr>\n",
              "      <th>3</th>\n",
              "      <td>1963-01-01</td>\n",
              "      <td>2856.593</td>\n",
              "    </tr>\n",
              "    <tr>\n",
              "      <th>4</th>\n",
              "      <td>1964-01-01</td>\n",
              "      <td>2827.257</td>\n",
              "    </tr>\n",
              "  </tbody>\n",
              "</table>\n",
              "</div>"
            ],
            "text/plain": [
              "        Year  CO2_emissions_kt\n",
              "0 1960-01-01          2427.554\n",
              "1 1961-01-01          2401.885\n",
              "2 1962-01-01          2625.572\n",
              "3 1963-01-01          2856.593\n",
              "4 1964-01-01          2827.257"
            ]
          },
          "metadata": {
            "tags": []
          },
          "execution_count": 5
        }
      ]
    },
    {
      "cell_type": "code",
      "metadata": {
        "id": "QZbhoOsN5ybb",
        "colab_type": "code",
        "outputId": "81fd4b89-ee46-451e-9213-e211126d9fdb",
        "colab": {
          "base_uri": "https://localhost:8080/",
          "height": 80
        }
      },
      "source": [
        "carbon_em.describe().T"
      ],
      "execution_count": 38,
      "outputs": [
        {
          "output_type": "execute_result",
          "data": {
            "text/html": [
              "<div>\n",
              "<style scoped>\n",
              "    .dataframe tbody tr th:only-of-type {\n",
              "        vertical-align: middle;\n",
              "    }\n",
              "\n",
              "    .dataframe tbody tr th {\n",
              "        vertical-align: top;\n",
              "    }\n",
              "\n",
              "    .dataframe thead th {\n",
              "        text-align: right;\n",
              "    }\n",
              "</style>\n",
              "<table border=\"1\" class=\"dataframe\">\n",
              "  <thead>\n",
              "    <tr style=\"text-align: right;\">\n",
              "      <th></th>\n",
              "      <th>count</th>\n",
              "      <th>mean</th>\n",
              "      <th>std</th>\n",
              "      <th>min</th>\n",
              "      <th>25%</th>\n",
              "      <th>50%</th>\n",
              "      <th>75%</th>\n",
              "      <th>max</th>\n",
              "    </tr>\n",
              "  </thead>\n",
              "  <tbody>\n",
              "    <tr>\n",
              "      <th>CO2_emissions_kt</th>\n",
              "      <td>55.0</td>\n",
              "      <td>6434.1182</td>\n",
              "      <td>3304.047086</td>\n",
              "      <td>2401.885</td>\n",
              "      <td>3896.1875</td>\n",
              "      <td>5192.472</td>\n",
              "      <td>8945.6465</td>\n",
              "      <td>14286.632</td>\n",
              "    </tr>\n",
              "  </tbody>\n",
              "</table>\n",
              "</div>"
            ],
            "text/plain": [
              "                  count       mean          std  ...       50%        75%        max\n",
              "CO2_emissions_kt   55.0  6434.1182  3304.047086  ...  5192.472  8945.6465  14286.632\n",
              "\n",
              "[1 rows x 8 columns]"
            ]
          },
          "metadata": {
            "tags": []
          },
          "execution_count": 38
        }
      ]
    },
    {
      "cell_type": "code",
      "metadata": {
        "id": "qYDfD5uA54AF",
        "colab_type": "code",
        "outputId": "201d6023-c8c8-45f6-8149-e9af0e1cb066",
        "colab": {
          "base_uri": "https://localhost:8080/",
          "height": 265
        }
      },
      "source": [
        "x = carbon_em.CO2_emissions_kt\n",
        "y = carbon_em.Year\n",
        "plt.scatter(x, y, color='gray')\n",
        "plt.show()"
      ],
      "execution_count": 43,
      "outputs": [
        {
          "output_type": "display_data",
          "data": {
            "image/png": "[encoded data removed]",
            "text/plain": [
              "<Figure size 432x288 with 1 Axes>"
            ]
          },
          "metadata": {
            "tags": [],
            "needs_background": "light"
          }
        }
      ]
    },
    {
      "cell_type": "code",
      "metadata": {
        "id": "zsXUYV_Z-Hgx",
        "colab_type": "code",
        "outputId": "1f093f17-fedf-4652-88ca-7142cecf8b14",
        "colab": {
          "base_uri": "https://localhost:8080/",
          "height": 279
        }
      },
      "source": [
        "plt.xlabel('Actual Carbon Emission')  \n",
        "plt.ylabel('Year') \n",
        "x.plot()\n",
        "plt.show()"
      ],
      "execution_count": 37,
      "outputs": [
        {
          "output_type": "display_data",
          "data": {
            "image/png": "[encoded data removed]",
            "text/plain": [
              "<Figure size 432x288 with 1 Axes>"
            ]
          },
          "metadata": {
            "tags": [],
            "needs_background": "light"
          }
        }
      ]
    },
    {
      "cell_type": "code",
      "metadata": {
        "id": "hYrf04m1-X3J",
        "colab_type": "code",
        "outputId": "d05fbb00-4c74-4de8-a2a3-a9feeae7cb9d",
        "colab": {
          "base_uri": "https://localhost:8080/",
          "height": 73
        }
      },
      "source": [
        "import seaborn as sns"
      ],
      "execution_count": 0,
      "outputs": [
        {
          "output_type": "stream",
          "text": [
            "/usr/local/lib/python3.6/dist-packages/statsmodels/tools/_testing.py:19: FutureWarning: pandas.util.testing is deprecated. Use the functions in the public API at pandas.testing instead.\n",
            "  import pandas.util.testing as tm\n"
          ],
          "name": "stderr"
        }
      ]
    },
    {
      "cell_type": "code",
      "metadata": {
        "id": "4yzksGTvHncD",
        "colab_type": "code",
        "colab": {}
      },
      "source": [
        "from statsmodels.tsa.stattools import adfuller\n",
        "def test_stationarity(timeseries):\n",
        "  rolmean = pd.Series(carbon_em).rolling(window=1).mean()\n",
        "  rolstd = pd.Series(carbon_em).rolling(window=1).std()\n",
        "\n",
        "  #Plot rolling statistics:\n",
        "  orig = plt.plot(carbon_em, color='blue',label='Original')\n",
        "  mean = plt.plot(rolmean, color='red', label='Rolling Mean')\n",
        "  std = plt.plot(rolstd, color='black', label = 'Rolling Std')\n",
        "  plt.legend(loc='best')\n",
        "  plt.title('Rolling Mean & Standard Deviation')\n",
        "  plt.show(block=False)\n",
        "\n",
        "  #Perform Dickey-Fuller test:\n",
        "  print('Results of Dickey-Fuller Test:')\n",
        "  dftest = adfuller(carbon_em, autolag='AIC')\n",
        "  dfoutput = pd.Series(dftest[0:4], index=['Test Statistic','p-value','#Lags Used','Number of Observations Used'])\n",
        "  for key,value in dftest[4].items():\n",
        "      dfoutput['Critical Value (%s)'%key] = value\n",
        "  print(dfoutput)"
      ],
      "execution_count": 0,
      "outputs": []
    },
    {
      "cell_type": "code",
      "metadata": {
        "id": "nMeTYooJoBW8",
        "colab_type": "code",
        "colab": {
          "base_uri": "https://localhost:8080/",
          "height": 53
        },
        "outputId": "736b32e1-ef0e-4687-fa13-46ac0d58b139"
      },
      "source": [
        "df = x.values\n",
        "series = np.log(df)\n",
        "# We can now calculate the mean and standard deviation of the values of the log transformed dataset.\n",
        "split = round(len(series) / 2)\n",
        "series1, series2 = series[0:split], series[split:]\n",
        "mean1, mean2 = series1.mean(), series2.mean()\n",
        "var1, var2 = series1.var(), series2.var()\n",
        "print('mean1=%f, mean2=%f' % (mean1, mean2))\n",
        "print('variance1=%f, variance2=%f' % (var1, var2))"
      ],
      "execution_count": 50,
      "outputs": [
        {
          "output_type": "stream",
          "text": [
            "mean1=8.240572, mean2=9.055603\n",
            "variance1=0.089479, variance2=0.101525\n"
          ],
          "name": "stdout"
        }
      ]
    },
    {
      "cell_type": "code",
      "metadata": {
        "id": "197CvoW4pHZp",
        "colab_type": "code",
        "colab": {
          "base_uri": "https://localhost:8080/",
          "height": 35
        },
        "outputId": "2becf5b1-b42a-4d30-e301-e7db4c7ce2eb"
      },
      "source": [
        "'''plt.xlabel('Log of Actual Carbon Emission')  \n",
        "plt.ylabel('Year') \n",
        "series1.plot()\n",
        "plt.show()'''"
      ],
      "execution_count": 58,
      "outputs": [
        {
          "output_type": "execute_result",
          "data": {
            "text/plain": [
              "\"plt.xlabel('Log of Actual Carbon Emission')  \\nplt.ylabel('Year') \\nseries1.plot()\\nplt.show()\""
            ]
          },
          "metadata": {
            "tags": []
          },
          "execution_count": 58
        }
      ]
    },
    {
      "cell_type": "code",
      "metadata": {
        "id": "kRCXfKCKkCLo",
        "colab_type": "code",
        "colab": {
          "base_uri": "https://localhost:8080/",
          "height": 125
        },
        "outputId": "73335dce-6c40-4237-cf84-c1778a4370f6"
      },
      "source": [
        "result = adfuller(df)\n",
        "result\n",
        "print('ADF Statistic: %f' % result[0])\n",
        "print('p-value: %f' % result[1])\n",
        "print('Critical Values:')\n",
        "for key, value in result[4].items():\n",
        "\tprint('\\t%s: %.3f' % (key, value))"
      ],
      "execution_count": 51,
      "outputs": [
        {
          "output_type": "stream",
          "text": [
            "ADF Statistic: 0.351289\n",
            "p-value: 0.979579\n",
            "Critical Values:\n",
            "\t1%: -3.558\n",
            "\t5%: -2.917\n",
            "\t10%: -2.596\n"
          ],
          "name": "stdout"
        }
      ]
    },
    {
      "cell_type": "code",
      "metadata": {
        "id": "wCIrFjbCffBQ",
        "colab_type": "code",
        "colab": {}
      },
      "source": [
        "# from above adf results, p-value > 0.05: Fail to reject the null hypothesis (H0), the data has a unit root \n",
        "# and is non-stationary"
      ],
      "execution_count": 0,
      "outputs": []
    },
    {
      "cell_type": "code",
      "metadata": {
        "id": "w963F4P9faA5",
        "colab_type": "code",
        "colab": {
          "base_uri": "https://localhost:8080/",
          "height": 125
        },
        "outputId": "e1fa473c-b24f-4139-f150-446b7ca930b8"
      },
      "source": [
        "result = adfuller(series)\n",
        "result\n",
        "print('ADF Statistic: %f' % result[0])\n",
        "print('p-value: %f' % result[1])\n",
        "print('Critical Values:')\n",
        "for key, value in result[4].items():\n",
        "\tprint('\\t%s: %.3f' % (key, value))"
      ],
      "execution_count": 59,
      "outputs": [
        {
          "output_type": "stream",
          "text": [
            "ADF Statistic: -0.715333\n",
            "p-value: 0.842738\n",
            "Critical Values:\n",
            "\t1%: -3.575\n",
            "\t5%: -2.924\n",
            "\t10%: -2.600\n"
          ],
          "name": "stdout"
        }
      ]
    },
    {
      "cell_type": "code",
      "metadata": {
        "id": "ObJxsLB0ruSX",
        "colab_type": "code",
        "colab": {}
      },
      "source": [
        ""
      ],
      "execution_count": 0,
      "outputs": []
    }
  ]
}